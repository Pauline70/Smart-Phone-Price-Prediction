{
  "nbformat": 4,
  "nbformat_minor": 0,
  "metadata": {
    "colab": {
      "provenance": [],
      "toc_visible": true
    },
    "kernelspec": {
      "name": "python3",
      "display_name": "Python 3"
    },
    "language_info": {
      "name": "python"
    }
  },
  "cells": [
    {
      "cell_type": "markdown",
      "source": [
        "Introduction\n",
        "\n",
        "\n",
        "Pricing is a significant concern for businesses, particularly in industries with high competition such as Smart Phone Industry.Pricing a smart phone is very critical as it determines the market response. Understanding the factors that contribute to how a smartphone is priced and being able to predict it can greatly benefit businesses by enabling proactive measures to reach the correct or targeted/market base customers and also evaluate the cost of production versus the profit margins expected\n",
        "\n",
        "This project aims to address the challenge of Pricing prediction by analyzing a real-world Smart Phone Price dataset. Using machine learning techniques, the goal is to build a predictive model that can identify and predict the price of new models brought into the market. This will help businesses implement Go To Market Strategies,Product Placement strategies and they will be able to quickly/easily identify their target market/Customers and improve overall customer satisfaction. The code in this repository provides a detailed approach to data exploration, feature engineering, model selection, and evaluation to achieve accurate churn prediction"
      ],
      "metadata": {
        "id": "c80OSvMitLBk"
      }
    },
    {
      "cell_type": "markdown",
      "source": [
        "Problem Statement:\n",
        "\n",
        "\n",
        "The goal is to analyze a smartphone  dataset and create a machine learning model that can accurately predict the price of new phone models brought into the market. Predicting pricing of new products  is crucial for businesses to optimize revenue, enhance competitiveness and improve profit margins. By developing a robust predictive model, we aim to assist businesses in growing market share and boost sales.\n",
        "\n",
        "The dataset source is (https://www.kaggle.com/datasets/juanmerinobermejo/smartphones-price-dataset?resource=download)"
      ],
      "metadata": {
        "id": "3ff8kKaMtV96"
      }
    },
    {
      "cell_type": "markdown",
      "source": [
        "Importing Libraries\n",
        "\n",
        "\n",
        "The initial step in this project was importing all relevant libraries required for data analysis, visualization, and machine learning. These libraries form the backbone of our project and allow us to perform operations like data manipulation, statistical analysis, data visualization, and building machine learning models. By importing these libraries at the beginning, we ensure our code has access to all the necessary tools for the subsequent stages of the project."
      ],
      "metadata": {
        "id": "S0RdsMpatg5A"
      }
    },
    {
      "cell_type": "code",
      "source": [
        "import numpy as np\n",
        "import pandas as pd\n",
        "import matplotlib.pyplot as plt\n",
        "import seaborn as sns\n",
        "from sklearn.preprocessing import LabelEncoder, MinMaxScaler\n",
        "from sklearn.model_selection import train_test_split, cross_val_score\n",
        "from sklearn.ensemble import RandomForestClassifier, GradientBoostingClassifier\n",
        "from sklearn.metrics import accuracy_score, confusion_matrix\n",
        "from imblearn.over_sampling import RandomOverSampler\n",
        "from sklearn.model_selection import KFold\n",
        "from sklearn.model_selection import RandomizedSearchCV\n",
        "from sklearn.svm import SVC\n",
        "from sklearn.preprocessing import OneHotEncoder\n",
        "from sklearn.linear_model import LogisticRegression\n",
        "from sklearn.neighbors import KNeighborsClassifier\n",
        "from sklearn.naive_bayes import MultinomialNB\n",
        "from sklearn import preprocessing\n",
        "from sklearn import metrics\n",
        "from sklearn.model_selection import GridSearchCV"
      ],
      "metadata": {
        "id": "3uMTiwx4E2KJ"
      },
      "execution_count": null,
      "outputs": []
    },
    {
      "cell_type": "markdown",
      "source": [
        "## Data Loading and Cleaning"
      ],
      "metadata": {
        "id": "4-8WF8z-tqbD"
      }
    },
    {
      "cell_type": "code",
      "source": [
        "data = pd.read_csv(\"/content/smartphones.csv\");"
      ],
      "metadata": {
        "id": "UQGzPifNE_s9"
      },
      "execution_count": null,
      "outputs": []
    },
    {
      "cell_type": "code",
      "source": [
        "# Display basic information about the data\n",
        "print(data.info())\n",
        "print(data.head())\n",
        "print(data.describe(include='all'))"
      ],
      "metadata": {
        "colab": {
          "base_uri": "https://localhost:8080/"
        },
        "id": "HT7_VjUmFLsu",
        "outputId": "bddd5df2-cf5a-4d13-ab44-faca9289d615"
      },
      "execution_count": null,
      "outputs": [
        {
          "output_type": "stream",
          "name": "stdout",
          "text": [
            "<class 'pandas.core.frame.DataFrame'>\n",
            "RangeIndex: 1816 entries, 0 to 1815\n",
            "Data columns (total 8 columns):\n",
            " #   Column       Non-Null Count  Dtype  \n",
            "---  ------       --------------  -----  \n",
            " 0   Smartphone   1816 non-null   object \n",
            " 1   Brand        1816 non-null   object \n",
            " 2   Model        1816 non-null   object \n",
            " 3   RAM          1333 non-null   float64\n",
            " 4   Storage      1791 non-null   float64\n",
            " 5   Color        1816 non-null   object \n",
            " 6   Free         1816 non-null   object \n",
            " 7   Final Price  1816 non-null   float64\n",
            "dtypes: float64(3), object(5)\n",
            "memory usage: 113.6+ KB\n",
            "None\n",
            "                                     Smartphone     Brand           Model  \\\n",
            "0            Realme C55 8/256GB Sunshower Libre    Realme             C55   \n",
            "1      Samsung Galaxy M23 5G 4/128GB Azul Libre   Samsung      Galaxy M23   \n",
            "2  Motorola Moto G13 4/128GB Azul Lavanda Libre  Motorola        Moto G13   \n",
            "3      Xiaomi Redmi Note 11S 6/128GB Gris Libre    Xiaomi  Redmi Note 11S   \n",
            "4       Nothing Phone (2) 12/512GB Blanco Libre   Nothing       Phone (2)   \n",
            "\n",
            "    RAM  Storage   Color Free  Final Price  \n",
            "0   8.0    256.0  Yellow  Yes       231.60  \n",
            "1   4.0    128.0    Blue  Yes       279.00  \n",
            "2   4.0    128.0    Blue  Yes       179.01  \n",
            "3   6.0    128.0    Gray  Yes       279.99  \n",
            "4  12.0    512.0   White  Yes       799.00  \n",
            "                                Smartphone    Brand      Model         RAM  \\\n",
            "count                                 1816     1816       1816  1333.00000   \n",
            "unique                                1816       37        383         NaN   \n",
            "top     Realme C55 8/256GB Sunshower Libre  Samsung  iPhone 13         NaN   \n",
            "freq                                     1      458         60         NaN   \n",
            "mean                                   NaN      NaN        NaN     5.96099   \n",
            "std                                    NaN      NaN        NaN     2.66807   \n",
            "min                                    NaN      NaN        NaN     1.00000   \n",
            "25%                                    NaN      NaN        NaN     4.00000   \n",
            "50%                                    NaN      NaN        NaN     6.00000   \n",
            "75%                                    NaN      NaN        NaN     8.00000   \n",
            "max                                    NaN      NaN        NaN    12.00000   \n",
            "\n",
            "            Storage  Color  Free  Final Price  \n",
            "count   1791.000000   1816  1816  1816.000000  \n",
            "unique          NaN     17     2          NaN  \n",
            "top             NaN  Black   Yes          NaN  \n",
            "freq            NaN    537  1772          NaN  \n",
            "mean     162.652150    NaN   NaN   492.175573  \n",
            "std      139.411605    NaN   NaN   398.606183  \n",
            "min        2.000000    NaN   NaN    60.460000  \n",
            "25%       64.000000    NaN   NaN   200.990000  \n",
            "50%      128.000000    NaN   NaN   349.990000  \n",
            "75%      256.000000    NaN   NaN   652.717500  \n",
            "max     1000.000000    NaN   NaN  2271.280000  \n"
          ]
        }
      ]
    },
    {
      "cell_type": "markdown",
      "source": [
        "Identify and handle missing values, correct data types, and address any inconsistencies.\n"
      ],
      "metadata": {
        "id": "IhTstFmEvKT7"
      }
    },
    {
      "cell_type": "code",
      "source": [
        "#Check for missing values\n",
        "print(data.isnull().sum())\n"
      ],
      "metadata": {
        "colab": {
          "base_uri": "https://localhost:8080/"
        },
        "id": "MHe8KZraFQiK",
        "outputId": "dac18a40-2b19-4731-b43f-c78e4edfcd3c"
      },
      "execution_count": null,
      "outputs": [
        {
          "output_type": "stream",
          "name": "stdout",
          "text": [
            "Smartphone       0\n",
            "Brand            0\n",
            "Model            0\n",
            "RAM            483\n",
            "Storage         25\n",
            "Color            0\n",
            "Free             0\n",
            "Final Price      0\n",
            "dtype: int64\n"
          ]
        }
      ]
    }
  ]
}